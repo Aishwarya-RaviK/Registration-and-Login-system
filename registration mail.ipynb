{
 "cells": [
  {
   "cell_type": "markdown",
   "metadata": {},
   "source": [
    "REGISTRATION AND LOGIN SYSTEM USING PYTHON FILE HANDLING"
   ]
  },
  {
   "cell_type": "code",
   "execution_count": 8,
   "metadata": {},
   "outputs": [
    {
     "name": "stdout",
     "output_type": "stream",
     "text": [
      "Enter your choice:\n",
      "Invalid password or user name\n",
      "User does not exist\n"
     ]
    }
   ],
   "source": [
    "# Registration block\n",
    "def register():\n",
    "    db = open(\"E:/Programs/databse_file.txt\", \"r\")\n",
    "    users=[]\n",
    "    passwords=[]\n",
    "    user_exist = input(\"Enter your username: \")\n",
    "    pass_exist = input(\"Enter your password: \")\n",
    "    users.append(user_exist)\n",
    "    passwords.append(pass_exist)\n",
    "    data = dict(zip(users, passwords))\n",
    "    if(user_exist in data[user_exist]):\n",
    "        print(\"User-name exists login:\")\n",
    "        login()\n",
    "    elif('@.' not in user_exist and '@'in user_exist and '.' in user_exist and user_exist[0].isalpha()):\n",
    "        print(\"User_name is valid\")\n",
    "    else:\n",
    "        print(\"User_name is either invalid or doesn't exist try registering again\")\n",
    "        register()\n",
    "    # Password validation\n",
    "    t=len(pass_exist)\n",
    "    Symbols={'.','_',':','-','@','#','$','%','^','&',\"*\",'!'}\n",
    "    if(t<5 or t>=16):\n",
    "        print(\"Password invalid\")\n",
    "    elif(not any (char.isdigit() for char in pass_exist)):\n",
    "        print(\"Password must have one digit\")\n",
    "    elif(not any (char.isupper() for char in pass_exist)):\n",
    "        print(\"Password must have one Upper case\")\n",
    "    elif(not any (char.islower() for char in pass_exist)):\n",
    "        print(\"password must have one lower character\")\n",
    "    elif(not any (char in Symbols for char in pass_exist)):\n",
    "        print(\"Password must have a special character\")\n",
    "    else:\n",
    "        db=open(\"E:/Programs/databse_file.txt\",\"a\")\n",
    "        db.write(user_exist+\", \"+pass_exist+\"\\n\")\n",
    "        print(\"Registered Successfully\")\n",
    "        \n",
    "#Login    \n",
    "def login():\n",
    "    db = open(\"E:/Programs/databse_file.txt\", \"r\")\n",
    "    user_exist = input(\"Enter your username: \")\n",
    "    pass_exist = input(\"Enter your password: \")\n",
    "    \n",
    "    #data = dict(zip(users, passwords))\n",
    "    if(user_exist+\", \"+pass_exist+\"\\n\" in db):\n",
    "        print(\"Login successful!\")\n",
    "        print(\"Hello,\", user_exist)\n",
    "    else:\n",
    "        print(\"Invalid password or user name\")\n",
    "        forgot_pass()\n",
    "            \n",
    "        \n",
    "# Forgot password block  \n",
    "import re   \n",
    "def forgot_pass():\n",
    "    db = open(\"E:/Programs/databse_file.txt\", \"r\")\n",
    "    user= input(\"To fetch your password, please enter your username: \")\n",
    "    for line in db:\n",
    "        if(user in line):\n",
    "            print(\"Your user name and password are\",i)\n",
    "        else:\n",
    "            print(\"User does not exist\")\n",
    "            register()\n",
    "\n",
    "#main block (first)\n",
    "# choose 1. Register 2.Login\n",
    "choice=input(print(\"Enter your choice:\"))\n",
    "if(choice=='1'):\n",
    "    register()\n",
    "elif(choice=='2'):\n",
    "    login()\n",
    "else:\n",
    "    print(\"Enter a valid choice\")"
   ]
  }
 ],
 "metadata": {
  "kernelspec": {
   "display_name": "Python 3.10.5 64-bit",
   "language": "python",
   "name": "python3"
  },
  "language_info": {
   "codemirror_mode": {
    "name": "ipython",
    "version": 3
   },
   "file_extension": ".py",
   "mimetype": "text/x-python",
   "name": "python",
   "nbconvert_exporter": "python",
   "pygments_lexer": "ipython3",
   "version": "3.10.5"
  },
  "orig_nbformat": 4,
  "vscode": {
   "interpreter": {
    "hash": "d3e10ef16274dd72e574b8fa73b58450b957d8421a2901baded3cca26fcf5dda"
   }
  }
 },
 "nbformat": 4,
 "nbformat_minor": 2
}
